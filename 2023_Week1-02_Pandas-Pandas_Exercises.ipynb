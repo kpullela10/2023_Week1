{
  "cells": [
    {
      "cell_type": "markdown",
      "source": "# Pandas Exercises",
      "metadata": {
        "id": "bSU6eKZTdMXZ",
        "colab_type": "text",
        "cell_id": "2551cfac002b47f495becc21bdbb46ae",
        "deepnote_cell_type": "markdown"
      }
    },
    {
      "cell_type": "code",
      "source": "import pandas as pd\n\nurl = \"https://raw.githubusercontent.com/BeaverWorksMedlytics2020/Data_Public/master/NotebookExampleData/Week1/diabetes.csv\"\nnames = ['preg', 'plas', 'pres', 'skin', 'test', 'mass', 'pedi', 'age', 'class']",
      "metadata": {
        "id": "c5ewTg7vdQFm",
        "colab": {},
        "colab_type": "code",
        "source_hash": "73161b4",
        "execution_start": 1625522830394,
        "execution_millis": 4,
        "deepnote_to_be_reexecuted": false,
        "cell_id": "5703bb2ee83f44208f15718fc14139ef",
        "deepnote_cell_type": "code"
      },
      "outputs": [],
      "execution_count": 1
    },
    {
      "cell_type": "markdown",
      "source": "Read in csv above to a pandas dataframe",
      "metadata": {
        "id": "QOLgFaSKeShR",
        "colab_type": "text",
        "cell_id": "7eddeee3a1674cd4be3bb24d2ef7b1be",
        "deepnote_cell_type": "markdown"
      }
    },
    {
      "cell_type": "code",
      "source": "# YOUR CODE HERE",
      "metadata": {
        "id": "Okcb8dnXeX2C",
        "colab": {},
        "colab_type": "code",
        "cell_id": "7cefdf4261464f5bb361b326c6c75371",
        "deepnote_cell_type": "code"
      },
      "outputs": [],
      "execution_count": null
    },
    {
      "cell_type": "markdown",
      "source": "Print out the age and class of the 100th patient",
      "metadata": {
        "id": "d4DyOsuoewE2",
        "colab_type": "text",
        "cell_id": "0ee0e052eb554396b8d792550d156b3a",
        "deepnote_cell_type": "markdown"
      }
    },
    {
      "cell_type": "code",
      "source": "# YOUR CODE HERE",
      "metadata": {
        "id": "xZqBsg39eY8_",
        "colab": {},
        "colab_type": "code",
        "cell_id": "3d959e4cec104593b160fe0990ddccc9",
        "deepnote_cell_type": "code"
      },
      "outputs": [],
      "execution_count": null
    },
    {
      "cell_type": "markdown",
      "source": "Write code to figure out how many people are classified as not having diabetes, class is 0",
      "metadata": {
        "id": "j8L2EM-5iOWc",
        "colab_type": "text",
        "cell_id": "82eb24752f2341159a987d0482873a70",
        "deepnote_cell_type": "markdown"
      }
    },
    {
      "cell_type": "code",
      "source": "# YOUR CODE HERE",
      "metadata": {
        "id": "vohzS51WiWvD",
        "colab": {},
        "colab_type": "code",
        "cell_id": "cf699ea5ef0c4157bd5667cbc521b752",
        "deepnote_cell_type": "code"
      },
      "outputs": [],
      "execution_count": null
    },
    {
      "cell_type": "markdown",
      "source": "Write code to figure out how many people are classified as having diabetes, class is 1",
      "metadata": {
        "id": "ieGRz4iiiX4E",
        "colab_type": "text",
        "cell_id": "6634e1833f3a42fda3a5bb01c50a2242",
        "deepnote_cell_type": "markdown"
      }
    },
    {
      "cell_type": "code",
      "source": "# YOUR CODE HERE",
      "metadata": {
        "id": "-jq2O-vriXRT",
        "colab": {},
        "colab_type": "code",
        "cell_id": "c3b362c761a74afc9cd9600a6125e881",
        "deepnote_cell_type": "code"
      },
      "outputs": [],
      "execution_count": null
    },
    {
      "cell_type": "markdown",
      "source": "What percent of people have diabetes in the study",
      "metadata": {
        "id": "oeFT7T9OnuSd",
        "colab_type": "text",
        "cell_id": "41ca5cc78b874ad1ac3d560473f81439",
        "deepnote_cell_type": "markdown"
      }
    },
    {
      "cell_type": "code",
      "source": "# YOUR CODE HERE",
      "metadata": {
        "id": "zGGHptFYnwq0",
        "colab": {},
        "colab_type": "code",
        "cell_id": "87ecc6d8d35d4c6494a1f8b90fc8c1d2",
        "deepnote_cell_type": "code"
      },
      "outputs": [],
      "execution_count": null
    },
    {
      "cell_type": "markdown",
      "source": "Print out the `\"pres\"` and `\"class\"` (no other columns) for the first 5 people",
      "metadata": {
        "id": "nbrjnRPafs0p",
        "colab_type": "text",
        "cell_id": "d0a3dae5475342c4946be85b5015985b",
        "deepnote_cell_type": "markdown"
      }
    },
    {
      "cell_type": "code",
      "source": "# YOUR CODE HERE",
      "metadata": {
        "id": "GiNCJ19KfHJQ",
        "colab": {},
        "colab_type": "code",
        "cell_id": "0a73c5848924432ba8845ffc8ca7315a",
        "deepnote_cell_type": "code"
      },
      "outputs": [],
      "execution_count": null
    },
    {
      "cell_type": "markdown",
      "source": "Run the cell below, it will print out the correlation among the columns",
      "metadata": {
        "id": "O-CcsoqlhxUn",
        "colab_type": "text",
        "cell_id": "af378e966a8e4d7dbd601499ec955e59",
        "deepnote_cell_type": "markdown"
      }
    },
    {
      "cell_type": "code",
      "source": "data.corr()",
      "metadata": {
        "id": "pXpVFt6MffQt",
        "colab": {},
        "colab_type": "code",
        "cell_id": "9577011f19a44557bcd6feefbfc5c1ef",
        "deepnote_cell_type": "code"
      },
      "outputs": [],
      "execution_count": null
    },
    {
      "cell_type": "markdown",
      "source": "What column has the highest correlation with class? Find the mean() value of that column",
      "metadata": {
        "id": "P_7xRF11h4Uf",
        "colab_type": "text",
        "cell_id": "3c3b290296074e0cbdc34a12d35bddb9",
        "deepnote_cell_type": "markdown"
      }
    },
    {
      "cell_type": "code",
      "source": "# YOUR CODE HERE",
      "metadata": {
        "id": "clb2Gh8Mn9d4",
        "colab": {},
        "colab_type": "code",
        "cell_id": "00407f051e5248cc9c41cbeb001b71bd",
        "deepnote_cell_type": "code"
      },
      "outputs": [],
      "execution_count": null
    },
    {
      "cell_type": "markdown",
      "source": "Create a new dataframe with only people that are above the mean found in the above cell.",
      "metadata": {
        "id": "64yWhAARoWw-",
        "colab_type": "text",
        "cell_id": "cc67611923f04b1d9d8469c21064619c",
        "deepnote_cell_type": "markdown"
      }
    },
    {
      "cell_type": "code",
      "source": "# YOUR CODE HERE",
      "metadata": {
        "id": "HRLjs3agkdPY",
        "colab": {},
        "colab_type": "code",
        "cell_id": "92b1758545f44a19807169bb12065bd0",
        "deepnote_cell_type": "code"
      },
      "outputs": [],
      "execution_count": null
    },
    {
      "cell_type": "markdown",
      "source": "Create a new dataframe that only includes people who are above the average value for each column in the dataset. In other words, find the average value for each column, and then find which users have values above all of these average column values.",
      "metadata": {
        "id": "RxGIQp0JrUnq",
        "colab_type": "text",
        "cell_id": "25fba206d1d344c59d00ddc4cf145ba7",
        "deepnote_cell_type": "markdown"
      }
    },
    {
      "cell_type": "code",
      "source": "# YOUR CODE HERE",
      "metadata": {
        "id": "Ylf4p6NNrfME",
        "colab": {},
        "colab_type": "code",
        "cell_id": "f3be06b26d64468a903cd84985ffcb50",
        "deepnote_cell_type": "code"
      },
      "outputs": [],
      "execution_count": null
    },
    {
      "cell_type": "markdown",
      "source": "*Note: the next 3 problems were not explicitly shown in our tutorial—being able to effectively google and look through documentation is a very important coding tool!* ¯\\\\\\_(ツ)_/¯",
      "metadata": {
        "id": "Cy_6ce7_8qAB",
        "colab_type": "text",
        "cell_id": "541437b26cac451294aa081b1a3bb42c",
        "deepnote_cell_type": "markdown"
      }
    },
    {
      "cell_type": "markdown",
      "source": "Ignoring the index (resetting the index to 0) and using the dataframe from the cell above, sort the values based on `\"skin\"`, `\"test\"`, and `\"pedi\"` values in ascending order. Please write this in one line.",
      "metadata": {
        "id": "24pCgP2xbCwZ",
        "colab_type": "text",
        "cell_id": "b009943f63954d6c835a4a91f0a12471",
        "deepnote_cell_type": "markdown"
      }
    },
    {
      "cell_type": "code",
      "source": "# YOUR CODE HERE",
      "metadata": {
        "id": "wXZysbVwa7i5",
        "colab": {},
        "colab_type": "code",
        "cell_id": "e9b281cff5874e1e8dd610cd86c73c18",
        "deepnote_cell_type": "code"
      },
      "outputs": [],
      "execution_count": null
    },
    {
      "cell_type": "markdown",
      "source": "Now let's find the 4 largest values for `\"age\"`",
      "metadata": {
        "id": "BIJkXsK4ch-u",
        "colab_type": "text",
        "cell_id": "71452f61bce84dfaaed6b7803c7921b0",
        "deepnote_cell_type": "markdown"
      }
    },
    {
      "cell_type": "code",
      "source": "# YOUR CODE HERE",
      "metadata": {
        "id": "kSl28jLLdAF9",
        "colab": {},
        "colab_type": "code",
        "cell_id": "c9a29f48705d441889aed308ecfb0270",
        "deepnote_cell_type": "code"
      },
      "outputs": [],
      "execution_count": null
    },
    {
      "cell_type": "markdown",
      "source": "Now find the smallest 4 values for `\"pedi\"` and `\"plas\"` in reverse order (smallest to largest).",
      "metadata": {
        "id": "fJRwe8UfqvNG",
        "colab_type": "text",
        "cell_id": "8383d49ced604ced91968069b0c54a32",
        "deepnote_cell_type": "markdown"
      }
    },
    {
      "cell_type": "code",
      "source": "# YOUR CODE HERE",
      "metadata": {
        "id": "icQcbPg1quNI",
        "colab": {},
        "colab_type": "code",
        "cell_id": "f99267209c4444e5b39e419624ceb504",
        "deepnote_cell_type": "code"
      },
      "outputs": [],
      "execution_count": null
    },
    {
      "cell_type": "markdown",
      "source": "<a style='text-decoration:none;line-height:16px;display:flex;color:#5B5B62;padding:10px;justify-content:end;' href='https://deepnote.com?utm_source=created-in-deepnote-cell&projectId=78cf26e5-327e-48b0-a730-f260ef21ed47' target=\"_blank\">\n<img alt='Created in deepnote.com' style='display:inline;max-height:16px;margin:0px;margin-right:7.5px;' src='data:image/svg+xml;base64,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' > </img>\nCreated in <span style='font-weight:600;margin-left:4px;'>Deepnote</span></a>",
      "metadata": {
        "created_in_deepnote_cell": true,
        "deepnote_cell_type": "markdown"
      }
    }
  ],
  "nbformat": 4,
  "nbformat_minor": 0,
  "metadata": {
    "colab": {
      "name": "Pandas_Exercises",
      "provenance": [],
      "collapsed_sections": []
    },
    "deepnote": {},
    "kernelspec": {
      "name": "python3",
      "language": "python",
      "display_name": "Python 3"
    },
    "language_info": {
      "name": "python",
      "version": "3.7.3",
      "mimetype": "text/x-python",
      "file_extension": ".py",
      "pygments_lexer": "ipython3",
      "codemirror_mode": {
        "name": "ipython",
        "version": 3
      },
      "nbconvert_exporter": "python"
    },
    "deepnote_notebook_id": "2ad38572c470474f9242e3bdb1bb14a3",
    "deepnote_execution_queue": []
  }
}