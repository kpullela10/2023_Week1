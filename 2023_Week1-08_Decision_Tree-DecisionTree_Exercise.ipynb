{
  "cells": [
    {
      "cell_type": "markdown",
      "source": "# Decision Tree Worksheet",
      "metadata": {
        "id": "-UimMCmGe19F",
        "colab_type": "text",
        "cell_id": "08142fc753e54f9ab73460656548c586",
        "deepnote_cell_type": "markdown"
      }
    },
    {
      "cell_type": "code",
      "source": "import numpy as np\nimport pandas as po\nfrom sklearn.model_selection import train_test_split\nfrom sklearn.tree import DecisionTreeClassifier\nfrom sklearn.metrics import accuracy_score\nfrom sklearn import tree\nfrom sklearn.ensemble import RandomForestClassifier\nfrom sklearn import metrics\nimport graphviz\nimport matplotlib.pyplot as plt",
      "metadata": {
        "id": "kedW02LgKjVL",
        "colab": {
          "autoexec": {
            "startup": false,
            "wait_interval": 0
          }
        },
        "colab_type": "code",
        "source_hash": "83f21d38",
        "execution_start": 1625523304867,
        "execution_millis": 1491,
        "deepnote_to_be_reexecuted": false,
        "cell_id": "9013f29ea5944cf5bc38452fff48398b",
        "deepnote_cell_type": "code"
      },
      "outputs": [],
      "execution_count": 1
    },
    {
      "cell_type": "markdown",
      "source": "## Loading data\n\nLoad Pima diabetes dataset and split data, with test size 20% and validaton 20%.",
      "metadata": {
        "id": "rz35eT5-SMht",
        "colab_type": "text",
        "cell_id": "6aaae3f3b4d947859564ebdd063a169e",
        "deepnote_cell_type": "markdown"
      }
    },
    {
      "cell_type": "code",
      "source": "url = \"https://raw.githubusercontent.com/jbrownlee/Datasets/master/pima-indians-diabetes.data.csv\"\nnames = ['preg', 'plas', 'pres', 'skin', 'test', 'mass', 'pedi', 'age', 'class']\n\n## YOUR CODE HERE",
      "metadata": {
        "id": "Ydh9gmDkMGmu",
        "colab": {
          "autoexec": {
            "startup": false,
            "wait_interval": 0
          }
        },
        "colab_type": "code",
        "source_hash": "7da8daf0",
        "execution_start": 1625523316115,
        "execution_millis": 3,
        "deepnote_to_be_reexecuted": false,
        "cell_id": "b0a393c80f184c36a019e1a3aeeb0ccb",
        "deepnote_cell_type": "code"
      },
      "outputs": [],
      "execution_count": 2
    },
    {
      "cell_type": "markdown",
      "source": "## Creating Model\n\nMake a model using sklearn's DecisionTreeClassifier, with a high max-depth and low minimum sample leafs.",
      "metadata": {
        "id": "KAFhsJIsSpMR",
        "colab_type": "text",
        "cell_id": "2eb2a563a34c493ca87b55b06a09c68f",
        "deepnote_cell_type": "markdown"
      }
    },
    {
      "cell_type": "code",
      "source": "## YOUR CODE HERE",
      "metadata": {
        "id": "fHbA28aFS2DM",
        "colab": {
          "autoexec": {
            "startup": false,
            "wait_interval": 0
          }
        },
        "colab_type": "code",
        "cell_id": "b9caaa796de64175a434a1eb1fc90fbb",
        "deepnote_cell_type": "code"
      },
      "outputs": [],
      "execution_count": 0
    },
    {
      "cell_type": "markdown",
      "source": "Print accuracy of training and validation data.",
      "metadata": {
        "id": "4_8DZinWTJRa",
        "colab_type": "text",
        "cell_id": "816c6ec75908456ab77c1b668ef7609d",
        "deepnote_cell_type": "markdown"
      }
    },
    {
      "cell_type": "code",
      "source": "## YOUR CODE HERE",
      "metadata": {
        "id": "EgByCP_EhyB2",
        "colab": {
          "autoexec": {
            "startup": false,
            "wait_interval": 0
          }
        },
        "colab_type": "code",
        "cell_id": "7528a27e9bc341689b595d5d112bc5b9",
        "deepnote_cell_type": "code"
      },
      "outputs": [],
      "execution_count": 0
    },
    {
      "cell_type": "markdown",
      "source": "Make a model with a low max-depth and higher minimum sample leafs.",
      "metadata": {
        "id": "6HNa6fxbT6ak",
        "colab_type": "text",
        "cell_id": "0c75eae2b85c466bb532ad465c1557d0",
        "deepnote_cell_type": "markdown"
      }
    },
    {
      "cell_type": "code",
      "source": "## YOUR CODE HERE",
      "metadata": {
        "id": "6Pbu-t_tiqnB",
        "colab": {
          "height": 17,
          "autoexec": {
            "startup": false,
            "wait_interval": 0
          },
          "base_uri": "https://localhost:8080/"
        },
        "outputId": "ef95b427-e6b4-41a7-f992-9826342b662c",
        "colab_type": "code",
        "executionInfo": {
          "user": {
            "userId": "102241934905781120798",
            "photoUrl": "https://lh3.googleusercontent.com/a/default-user=s128",
            "displayName": "john passarelli"
          },
          "status": "ok",
          "elapsed": 287,
          "user_tz": 240,
          "timestamp": 1530627778885
        },
        "cell_id": "eadef902d7784e1aaa93ef73d995f14c",
        "deepnote_cell_type": "code"
      },
      "outputs": [],
      "execution_count": 1
    },
    {
      "cell_type": "markdown",
      "source": "Print accuracy of training and validation data.",
      "metadata": {
        "cell_id": "1aa0655a579b43edb21ac4ae63b2e647",
        "deepnote_cell_type": "markdown"
      }
    },
    {
      "cell_type": "code",
      "source": "## YOUR CODE HERE",
      "metadata": {
        "cell_id": "4f8b2563bf8f43118a10edbdd99e211e",
        "deepnote_cell_type": "code"
      },
      "outputs": [],
      "execution_count": null
    },
    {
      "cell_type": "markdown",
      "source": "Explain the accuracy results below. \n\n(YOUR ANSWER HERE)",
      "metadata": {
        "cell_id": "5dc0a9bd7c734f229ea37602b55277df",
        "deepnote_cell_type": "markdown"
      }
    },
    {
      "cell_type": "markdown",
      "source": "## Metrics",
      "metadata": {
        "cell_id": "8ec3e7ef118949969a3b08321b28c192",
        "deepnote_cell_type": "markdown"
      }
    },
    {
      "cell_type": "markdown",
      "source": "Plot the ROC curve and print the AUC of the second model.",
      "metadata": {
        "cell_id": "574635c25a2d4b0ea2f33f1c290ccb25",
        "deepnote_cell_type": "markdown"
      }
    },
    {
      "cell_type": "code",
      "source": "## YOUR CODE HERE",
      "metadata": {
        "cell_id": "a0be723726374531a7318f728ef57a2d",
        "deepnote_cell_type": "code"
      },
      "outputs": [],
      "execution_count": null
    },
    {
      "cell_type": "markdown",
      "source": "Use graphviz to visualize your 2nd tree.",
      "metadata": {
        "id": "tKdqOMBKUvGZ",
        "colab_type": "text",
        "cell_id": "94fae55cd7ea4926b9420160a06d76e0",
        "deepnote_cell_type": "markdown"
      }
    },
    {
      "cell_type": "code",
      "source": "## YOUR CODE HERE",
      "metadata": {
        "id": "8o55bY_jl8gj",
        "colab": {
          "autoexec": {
            "startup": false,
            "wait_interval": 0
          }
        },
        "colab_type": "code",
        "cell_id": "dc5bb3fccc6e4ac8bb33d705c374eba3",
        "deepnote_cell_type": "code"
      },
      "outputs": [],
      "execution_count": 0
    },
    {
      "cell_type": "markdown",
      "source": "#### Use the graph above to answer the questions below",
      "metadata": {
        "id": "4iz4meWDVmo2",
        "colab_type": "text",
        "cell_id": "fef01ac900984d0291d296dd3a99e609",
        "deepnote_cell_type": "markdown"
      }
    },
    {
      "cell_type": "markdown",
      "source": "Question 1: What do you think X[n] represents in the nodes from the graph?\n\n(YOUR ANSWER HERE)",
      "metadata": {
        "id": "u1yM9h10WUEv",
        "colab_type": "text",
        "cell_id": "9e2e9396af9f447ba5b0cd68fda55383",
        "deepnote_cell_type": "markdown"
      }
    },
    {
      "cell_type": "markdown",
      "source": "Question 2: What is the root feature? Does it make sense as the root feature?\n\n(YOUR ANSWER HERE)",
      "metadata": {
        "id": "rA7B0oTaWUIe",
        "colab_type": "text",
        "cell_id": "fc394c137fde42bea3d8aded50646dcc",
        "deepnote_cell_type": "markdown"
      }
    },
    {
      "cell_type": "markdown",
      "source": "Question 3: If you were to change the parameters to have a max_depth of 500 and min_samples_leaf of 1, what do you think the effect would be on the test accuracy? Training accuracy?\n\n(YOUR ANSWER HERE)",
      "metadata": {
        "id": "1t559pS3ZHES",
        "colab_type": "text",
        "cell_id": "780c02b579be403aa8e4b5f871299b85",
        "deepnote_cell_type": "markdown"
      }
    },
    {
      "cell_type": "markdown",
      "source": "**Test your guesses, create a model with max_depth=500 and min_samples_leaf=1, and predict values for the training and validation data**",
      "metadata": {
        "id": "7dnlqId2bIcR",
        "colab_type": "text",
        "cell_id": "50cab753f49c4e93b9b81184b3b56bf3",
        "deepnote_cell_type": "markdown"
      }
    },
    {
      "cell_type": "code",
      "source": "## YOUR CODE HERE",
      "metadata": {
        "id": "hnUQKX9vl9Gy",
        "colab": {
          "height": 17,
          "autoexec": {
            "startup": false,
            "wait_interval": 0
          },
          "base_uri": "https://localhost:8080/"
        },
        "outputId": "ebaa5e52-a33f-4749-a3f6-6a3fde24da1f",
        "colab_type": "code",
        "executionInfo": {
          "user": {
            "userId": "102241934905781120798",
            "photoUrl": "https://lh3.googleusercontent.com/a/default-user=s128",
            "displayName": "john passarelli"
          },
          "status": "ok",
          "elapsed": 235,
          "user_tz": 240,
          "timestamp": 1530627843330
        },
        "cell_id": "d7165321dfac4ee98399439172553dd5",
        "deepnote_cell_type": "code"
      },
      "outputs": [],
      "execution_count": 3
    },
    {
      "cell_type": "markdown",
      "source": "# Random Forest",
      "metadata": {
        "id": "40Psyt65pD8p",
        "colab_type": "text",
        "cell_id": "0eb5f93e1c78478caa6cf8017de19e8b",
        "deepnote_cell_type": "markdown"
      }
    },
    {
      "cell_type": "markdown",
      "source": "## Creating Model\n\nCreate a model with sklearn's RandomForestClassifier and predict values on your validation set.",
      "metadata": {
        "id": "mjLu1MLIpGNF",
        "colab_type": "text",
        "cell_id": "53b213d358154b3bab585633d0ed0b14",
        "deepnote_cell_type": "markdown"
      }
    },
    {
      "cell_type": "code",
      "source": "## YOUR CODE HERE",
      "metadata": {
        "id": "TYwbpWxUfDIY",
        "colab": {
          "height": 37,
          "autoexec": {
            "startup": false,
            "wait_interval": 0
          },
          "base_uri": "https://localhost:8080/"
        },
        "outputId": "0008a18f-a9e3-4c04-b42e-adc8ce9aa966",
        "colab_type": "code",
        "executionInfo": {
          "user": {
            "userId": "102241934905781120798",
            "photoUrl": "https://lh3.googleusercontent.com/a/default-user=s128",
            "displayName": "john passarelli"
          },
          "status": "ok",
          "elapsed": 318,
          "user_tz": 240,
          "timestamp": 1530627847311
        },
        "cell_id": "9da1392a39d449068724bb9d95139ab4",
        "deepnote_cell_type": "code"
      },
      "outputs": [],
      "execution_count": 4
    },
    {
      "cell_type": "markdown",
      "source": "Print accuracy of training and validation data.",
      "metadata": {
        "id": "6Ys_J3O4pd0u",
        "colab_type": "text",
        "cell_id": "cfe17bc3eeea4fde9181bcf625fd1021",
        "deepnote_cell_type": "markdown"
      }
    },
    {
      "cell_type": "code",
      "source": "## YOUR CODE HERE",
      "metadata": {
        "id": "aQdfjEWdfDOH",
        "colab": {
          "height": 17,
          "autoexec": {
            "startup": false,
            "wait_interval": 0
          },
          "base_uri": "https://localhost:8080/"
        },
        "outputId": "751008b5-156c-4bea-d599-37f84bd1b60c",
        "colab_type": "code",
        "executionInfo": {
          "user": {
            "userId": "102241934905781120798",
            "photoUrl": "https://lh3.googleusercontent.com/a/default-user=s128",
            "displayName": "john passarelli"
          },
          "status": "ok",
          "elapsed": 337,
          "user_tz": 240,
          "timestamp": 1530627851278
        },
        "cell_id": "c8718afb84e4439391e7d8512fedc80b",
        "deepnote_cell_type": "code"
      },
      "outputs": [],
      "execution_count": 5
    },
    {
      "cell_type": "markdown",
      "source": "How did the accuracy compare to the decision tree's accuracy?\n\n(YOUR ANSWER HERE)",
      "metadata": {
        "cell_id": "ab8f1c4adac445d2a116912f4b241042",
        "deepnote_cell_type": "markdown"
      }
    },
    {
      "cell_type": "markdown",
      "source": "Print the 3 most important features (hint: sklearn has an attribute to help you find these)",
      "metadata": {
        "id": "jGlSHxuUqAnX",
        "colab_type": "text",
        "cell_id": "4ba81dafc88d408cbfa9d4f0c1e91a9c",
        "deepnote_cell_type": "markdown"
      }
    },
    {
      "cell_type": "code",
      "source": "## YOUR CODE HERE",
      "metadata": {
        "id": "5rVekWn0qw3r",
        "colab": {
          "height": 17,
          "autoexec": {
            "startup": false,
            "wait_interval": 0
          },
          "base_uri": "https://localhost:8080/"
        },
        "outputId": "d5e516d3-4f91-4394-b2e5-f26427b404ef",
        "colab_type": "code",
        "executionInfo": {
          "user": {
            "userId": "102241934905781120798",
            "photoUrl": "https://lh3.googleusercontent.com/a/default-user=s128",
            "displayName": "john passarelli"
          },
          "status": "ok",
          "elapsed": 448,
          "user_tz": 240,
          "timestamp": 1530627855691
        },
        "cell_id": "f3f8cdf6407c4c53b905fc61840c1ab0",
        "deepnote_cell_type": "code"
      },
      "outputs": [],
      "execution_count": 6
    },
    {
      "cell_type": "markdown",
      "source": "Find the accuracy for random forests with 1 to 100 trees, counting by 5. Print and then plot these accuracies.",
      "metadata": {
        "id": "lynu8pLDtd0S",
        "colab_type": "text",
        "cell_id": "08000b774e2143d88cd8634355b53aac",
        "deepnote_cell_type": "markdown"
      }
    },
    {
      "cell_type": "code",
      "source": "## YOUR CODE HERE",
      "metadata": {
        "id": "e2hG7npcuM7f",
        "colab": {
          "height": 17,
          "autoexec": {
            "startup": false,
            "wait_interval": 0
          },
          "base_uri": "https://localhost:8080/"
        },
        "outputId": "fb9e32ed-fb17-462e-a2f2-8db7964bb3d7",
        "colab_type": "code",
        "executionInfo": {
          "user": {
            "userId": "102241934905781120798",
            "photoUrl": "https://lh3.googleusercontent.com/a/default-user=s128",
            "displayName": "john passarelli"
          },
          "status": "ok",
          "elapsed": 371,
          "user_tz": 240,
          "timestamp": 1530627860158
        },
        "cell_id": "5a5df4880c5c4ca88d2890be2fff1084",
        "deepnote_cell_type": "code"
      },
      "outputs": [],
      "execution_count": 7
    },
    {
      "cell_type": "markdown",
      "source": "Plot the roc_curve using predict_proba a function for our random forest model, and metrics.roc_curve\n\nIt might help to google these functions and look at sklearn's documentation.",
      "metadata": {
        "cell_id": "bf29c9655ce94aeaa5c780248128ca1b",
        "deepnote_cell_type": "markdown"
      }
    },
    {
      "cell_type": "code",
      "source": "## YOUR CODE HERE",
      "metadata": {
        "cell_id": "3d62ae76d2ac4892ba641d8f60d1fd14",
        "deepnote_cell_type": "code"
      },
      "outputs": [],
      "execution_count": null
    },
    {
      "cell_type": "markdown",
      "source": "<a style='text-decoration:none;line-height:16px;display:flex;color:#5B5B62;padding:10px;justify-content:end;' href='https://deepnote.com?utm_source=created-in-deepnote-cell&projectId=78cf26e5-327e-48b0-a730-f260ef21ed47' target=\"_blank\">\n<img alt='Created in deepnote.com' style='display:inline;max-height:16px;margin:0px;margin-right:7.5px;' src='data:image/svg+xml;base64,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' > </img>\nCreated in <span style='font-weight:600;margin-left:4px;'>Deepnote</span></a>",
      "metadata": {
        "created_in_deepnote_cell": true,
        "deepnote_cell_type": "markdown"
      }
    }
  ],
  "nbformat": 4,
  "nbformat_minor": 0,
  "metadata": {
    "colab": {
      "name": "DecisionTreeWorksheetStudent",
      "views": {},
      "version": "0.3.2",
      "provenance": [
        {
          "file_id": "165CSmT99w4_Sv1UENIyvIkH7ZEw2Xeh8",
          "timestamp": 1527780043079
        }
      ],
      "default_view": {},
      "collapsed_sections": []
    },
    "deepnote": {},
    "kernelspec": {
      "name": "python3",
      "language": "python",
      "display_name": "Python 3"
    },
    "language_info": {
      "name": "python",
      "version": "3.7.3",
      "mimetype": "text/x-python",
      "file_extension": ".py",
      "pygments_lexer": "ipython3",
      "codemirror_mode": {
        "name": "ipython",
        "version": 3
      },
      "nbconvert_exporter": "python"
    },
    "deepnote_notebook_id": "cb1ffb8423484be1be31d206fc5fa158",
    "deepnote_execution_queue": []
  }
}